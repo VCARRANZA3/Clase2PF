{
 "cells": [
  {
   "cell_type": "markdown",
   "id": "4e8bd04b",
   "metadata": {},
   "source": [
    "Actividad Puntaje Reading de Victor Carranza"
   ]
  },
  {
   "cell_type": "code",
   "execution_count": 3,
   "id": "3c02b7d2",
   "metadata": {},
   "outputs": [],
   "source": [
    "#Librerias utilizadas\n",
    "import numpy as np\n",
    "import pandas as pd\n",
    "import matplotlib.pyplot as plt"
   ]
  },
  {
   "cell_type": "code",
   "execution_count": 17,
   "id": "fb8c404f",
   "metadata": {},
   "outputs": [
    {
     "data": {
      "text/html": [
       "<div>\n",
       "<style scoped>\n",
       "    .dataframe tbody tr th:only-of-type {\n",
       "        vertical-align: middle;\n",
       "    }\n",
       "\n",
       "    .dataframe tbody tr th {\n",
       "        vertical-align: top;\n",
       "    }\n",
       "\n",
       "    .dataframe thead th {\n",
       "        text-align: right;\n",
       "    }\n",
       "</style>\n",
       "<table border=\"1\" class=\"dataframe\">\n",
       "  <thead>\n",
       "    <tr style=\"text-align: right;\">\n",
       "      <th></th>\n",
       "      <th>student_name</th>\n",
       "      <th>gender</th>\n",
       "      <th>grade</th>\n",
       "      <th>school_name</th>\n",
       "      <th>reading_score</th>\n",
       "      <th>math_score</th>\n",
       "    </tr>\n",
       "    <tr>\n",
       "      <th>Student ID</th>\n",
       "      <th></th>\n",
       "      <th></th>\n",
       "      <th></th>\n",
       "      <th></th>\n",
       "      <th></th>\n",
       "      <th></th>\n",
       "    </tr>\n",
       "  </thead>\n",
       "  <tbody>\n",
       "    <tr>\n",
       "      <th>0</th>\n",
       "      <td>Paul Bradley</td>\n",
       "      <td>M</td>\n",
       "      <td>9th</td>\n",
       "      <td>Huang High School</td>\n",
       "      <td>66</td>\n",
       "      <td>79</td>\n",
       "    </tr>\n",
       "    <tr>\n",
       "      <th>1</th>\n",
       "      <td>Victor Smith</td>\n",
       "      <td>M</td>\n",
       "      <td>12th</td>\n",
       "      <td>Huang High School</td>\n",
       "      <td>94</td>\n",
       "      <td>61</td>\n",
       "    </tr>\n",
       "    <tr>\n",
       "      <th>2</th>\n",
       "      <td>Kevin Rodriguez</td>\n",
       "      <td>M</td>\n",
       "      <td>12th</td>\n",
       "      <td>Huang High School</td>\n",
       "      <td>90</td>\n",
       "      <td>60</td>\n",
       "    </tr>\n",
       "    <tr>\n",
       "      <th>3</th>\n",
       "      <td>Richard Scott</td>\n",
       "      <td>M</td>\n",
       "      <td>12th</td>\n",
       "      <td>Huang High School</td>\n",
       "      <td>67</td>\n",
       "      <td>58</td>\n",
       "    </tr>\n",
       "    <tr>\n",
       "      <th>4</th>\n",
       "      <td>Bonnie Ray</td>\n",
       "      <td>F</td>\n",
       "      <td>9th</td>\n",
       "      <td>Huang High School</td>\n",
       "      <td>97</td>\n",
       "      <td>84</td>\n",
       "    </tr>\n",
       "    <tr>\n",
       "      <th>...</th>\n",
       "      <td>...</td>\n",
       "      <td>...</td>\n",
       "      <td>...</td>\n",
       "      <td>...</td>\n",
       "      <td>...</td>\n",
       "      <td>...</td>\n",
       "    </tr>\n",
       "    <tr>\n",
       "      <th>39165</th>\n",
       "      <td>Donna Howard</td>\n",
       "      <td>F</td>\n",
       "      <td>12th</td>\n",
       "      <td>Thomas High School</td>\n",
       "      <td>99</td>\n",
       "      <td>90</td>\n",
       "    </tr>\n",
       "    <tr>\n",
       "      <th>39166</th>\n",
       "      <td>Dawn Bell</td>\n",
       "      <td>F</td>\n",
       "      <td>10th</td>\n",
       "      <td>Thomas High School</td>\n",
       "      <td>95</td>\n",
       "      <td>70</td>\n",
       "    </tr>\n",
       "    <tr>\n",
       "      <th>39167</th>\n",
       "      <td>Rebecca Tanner</td>\n",
       "      <td>F</td>\n",
       "      <td>9th</td>\n",
       "      <td>Thomas High School</td>\n",
       "      <td>73</td>\n",
       "      <td>84</td>\n",
       "    </tr>\n",
       "    <tr>\n",
       "      <th>39168</th>\n",
       "      <td>Desiree Kidd</td>\n",
       "      <td>F</td>\n",
       "      <td>10th</td>\n",
       "      <td>Thomas High School</td>\n",
       "      <td>99</td>\n",
       "      <td>90</td>\n",
       "    </tr>\n",
       "    <tr>\n",
       "      <th>39169</th>\n",
       "      <td>Carolyn Jackson</td>\n",
       "      <td>F</td>\n",
       "      <td>11th</td>\n",
       "      <td>Thomas High School</td>\n",
       "      <td>95</td>\n",
       "      <td>75</td>\n",
       "    </tr>\n",
       "  </tbody>\n",
       "</table>\n",
       "<p>39170 rows × 6 columns</p>\n",
       "</div>"
      ],
      "text/plain": [
       "               student_name gender grade         school_name  reading_score  \\\n",
       "Student ID                                                                    \n",
       "0              Paul Bradley      M   9th   Huang High School             66   \n",
       "1              Victor Smith      M  12th   Huang High School             94   \n",
       "2           Kevin Rodriguez      M  12th   Huang High School             90   \n",
       "3             Richard Scott      M  12th   Huang High School             67   \n",
       "4                Bonnie Ray      F   9th   Huang High School             97   \n",
       "...                     ...    ...   ...                 ...            ...   \n",
       "39165          Donna Howard      F  12th  Thomas High School             99   \n",
       "39166             Dawn Bell      F  10th  Thomas High School             95   \n",
       "39167        Rebecca Tanner      F   9th  Thomas High School             73   \n",
       "39168          Desiree Kidd      F  10th  Thomas High School             99   \n",
       "39169       Carolyn Jackson      F  11th  Thomas High School             95   \n",
       "\n",
       "            math_score  \n",
       "Student ID              \n",
       "0                   79  \n",
       "1                   61  \n",
       "2                   60  \n",
       "3                   58  \n",
       "4                   84  \n",
       "...                ...  \n",
       "39165               90  \n",
       "39166               70  \n",
       "39167               84  \n",
       "39168               90  \n",
       "39169               75  \n",
       "\n",
       "[39170 rows x 6 columns]"
      ]
     },
     "execution_count": 17,
     "metadata": {},
     "output_type": "execute_result"
    }
   ],
   "source": [
    "#Preparativos para la base\n",
    "data_students = pd.read_csv(\"clean_students_complete.csv\")\n",
    "data_students.set_index(\"Student ID\", inplace= True)\n",
    "data_students = data_students.drop([\"Unnamed: 0\"], axis=1)\n",
    "data_students"
   ]
  },
  {
   "cell_type": "code",
   "execution_count": 31,
   "id": "4c2733fb",
   "metadata": {},
   "outputs": [
    {
     "data": {
      "text/plain": [
       "<AxesSubplot:xlabel='school_name'>"
      ]
     },
     "execution_count": 31,
     "metadata": {},
     "output_type": "execute_result"
    },
    {
     "data": {
      "image/png": "[encoded data removed]",
      "text/plain": [
       "<Figure size 936x648 with 1 Axes>"
      ]
     },
     "metadata": {
      "needs_background": "light"
     },
     "output_type": "display_data"
    }
   ],
   "source": [
    "#Proceso para el mejor puntaje\n",
    "max_reading=data_students[data_students[\"reading_score\"]==data_students[\"reading_score\"].max()]\n",
    "max_reading_corto=max_reading[[\"gender\",\"school_name\"]]\n",
    "dummies1=pd.get_dummies(max_reading_corto[[\"gender\"]])\n",
    "max_reading_base=pd.concat([max_reading_corto,dummies1],axis=1)\n",
    "max_reading_base=max_reading_base.groupby([\"school_name\"]).sum()\n",
    "max_reading_base.plot(kind=\"bar\",color=[\"red\",\"blue\"],figsize=(13,9))"
   ]
  },
  {
   "cell_type": "code",
   "execution_count": 32,
   "id": "acf8e57f",
   "metadata": {},
   "outputs": [
    {
     "data": {
      "text/plain": [
       "<AxesSubplot:xlabel='school_name'>"
      ]
     },
     "execution_count": 32,
     "metadata": {},
     "output_type": "execute_result"
    },
    {
     "data": {
      "image/png": "[encoded data removed]",
      "text/plain": [
       "<Figure size 936x648 with 1 Axes>"
      ]
     },
     "metadata": {
      "needs_background": "light"
     },
     "output_type": "display_data"
    }
   ],
   "source": [
    "#Proceso para el peor puntaje\n",
    "min_reading=data_students[data_students[\"reading_score\"]==data_students[\"reading_score\"].min()]\n",
    "min_reading_corto=min_reading[[\"gender\",\"school_name\"]]\n",
    "dummies2=pd.get_dummies(min_reading_corto[[\"gender\"]])\n",
    "min_reading_base=pd.concat([min_reading_corto,dummies2],axis=1)\n",
    "min_reading_base=min_reading_base.groupby([\"school_name\"]).sum()\n",
    "min_reading_base.plot(kind=\"bar\",color=[\"red\",\"blue\"],figsize=(13,9))"
   ]
  }
 ],
 "metadata": {
  "kernelspec": {
   "display_name": "Python 3 (ipykernel)",
   "language": "python",
   "name": "python3"
  },
  "language_info": {
   "codemirror_mode": {
    "name": "ipython",
    "version": 3
   },
   "file_extension": ".py",
   "mimetype": "text/x-python",
   "name": "python",
   "nbconvert_exporter": "python",
   "pygments_lexer": "ipython3",
   "version": "3.9.12"
  }
 },
 "nbformat": 4,
 "nbformat_minor": 5
}

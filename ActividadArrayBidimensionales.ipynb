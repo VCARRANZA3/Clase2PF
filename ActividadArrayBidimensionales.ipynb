{
 "cells": [
  {
   "cell_type": "markdown",
   "id": "b9666568",
   "metadata": {},
   "source": [
    "Actividad Array Bidimensionales de Victor Carranza"
   ]
  },
  {
   "cell_type": "code",
   "execution_count": 1,
   "id": "2c3e07cd",
   "metadata": {},
   "outputs": [],
   "source": [
    "import numpy as np"
   ]
  },
  {
   "cell_type": "code",
   "execution_count": 2,
   "id": "aeca3a7a",
   "metadata": {},
   "outputs": [
    {
     "data": {
      "text/plain": [
       "array([[0, 1, 2],\n",
       "       [3, 4, 5],\n",
       "       [6, 7, 8]])"
      ]
     },
     "execution_count": 2,
     "metadata": {},
     "output_type": "execute_result"
    }
   ],
   "source": [
    "#1.- Crear una matriz 3x3 con valores de 0 a 8\n",
    "#Con range obtenemos los valores, despues se colocan en arreglo con np.array y se obtienen las dimensiones con np.reshape\n",
    "Matriz = np.reshape(np.array(range(0,9)),(3,3))\n",
    "Matriz"
   ]
  },
  {
   "cell_type": "code",
   "execution_count": 3,
   "id": "9dd4f764",
   "metadata": {},
   "outputs": [
    {
     "data": {
      "text/plain": [
       "array([[1., 0., 0., 0., 0., 0.],\n",
       "       [0., 1., 0., 0., 0., 0.],\n",
       "       [0., 0., 1., 0., 0., 0.],\n",
       "       [0., 0., 0., 1., 0., 0.],\n",
       "       [0., 0., 0., 0., 1., 0.],\n",
       "       [0., 0., 0., 0., 0., 1.]])"
      ]
     },
     "execution_count": 3,
     "metadata": {},
     "output_type": "execute_result"
    }
   ],
   "source": [
    "#2.- Crear una matriz identidad de 6x6\n",
    "#Con identity se obtiene la matriz directa\n",
    "Identidad = np.identity(6)\n",
    "Identidad"
   ]
  }
 ],
 "metadata": {
  "kernelspec": {
   "display_name": "Python 3",
   "language": "python",
   "name": "python3"
  },
  "language_info": {
   "codemirror_mode": {
    "name": "ipython",
    "version": 3
   },
   "file_extension": ".py",
   "mimetype": "text/x-python",
   "name": "python",
   "nbconvert_exporter": "python",
   "pygments_lexer": "ipython3",
   "version": "3.6.13"
  }
 },
 "nbformat": 4,
 "nbformat_minor": 5
}

{
 "cells": [
  {
   "cell_type": "code",
   "execution_count": 7,
   "id": "3dcf76bf",
   "metadata": {},
   "outputs": [
    {
     "name": "stdout",
     "output_type": "stream",
     "text": [
      "Hola mundo de python fundamentals\n"
     ]
    }
   ],
   "source": [
    "print(\"Hola mundo de python fundamentals\")"
   ]
  },
  {
   "cell_type": "code",
   "execution_count": 8,
   "id": "6b17240b",
   "metadata": {},
   "outputs": [
    {
     "data": {
      "text/plain": [
       "3"
      ]
     },
     "execution_count": 8,
     "metadata": {},
     "output_type": "execute_result"
    }
   ],
   "source": [
    "1+2"
   ]
  },
  {
   "cell_type": "code",
   "execution_count": 9,
   "id": "2a7d62a7",
   "metadata": {},
   "outputs": [
    {
     "data": {
      "text/plain": [
       "5"
      ]
     },
     "execution_count": 9,
     "metadata": {},
     "output_type": "execute_result"
    }
   ],
   "source": [
    "10-5"
   ]
  },
  {
   "cell_type": "code",
   "execution_count": 10,
   "id": "0fc191de",
   "metadata": {},
   "outputs": [
    {
     "data": {
      "text/plain": [
       "6.0"
      ]
     },
     "execution_count": 10,
     "metadata": {},
     "output_type": "execute_result"
    }
   ],
   "source": [
    "12/2"
   ]
  },
  {
   "cell_type": "code",
   "execution_count": 11,
   "id": "69948208",
   "metadata": {},
   "outputs": [],
   "source": [
    "x=100"
   ]
  },
  {
   "cell_type": "code",
   "execution_count": 12,
   "id": "08873dc1",
   "metadata": {},
   "outputs": [
    {
     "data": {
      "text/plain": [
       "100"
      ]
     },
     "execution_count": 12,
     "metadata": {},
     "output_type": "execute_result"
    }
   ],
   "source": [
    "x"
   ]
  },
  {
   "cell_type": "code",
   "execution_count": 13,
   "id": "7edca81e",
   "metadata": {},
   "outputs": [
    {
     "data": {
      "text/plain": [
       "int"
      ]
     },
     "execution_count": 13,
     "metadata": {},
     "output_type": "execute_result"
    }
   ],
   "source": [
    "type(x)"
   ]
  },
  {
   "cell_type": "code",
   "execution_count": 14,
   "id": "d21b6f49",
   "metadata": {},
   "outputs": [],
   "source": [
    "nombre=\"Victor\""
   ]
  },
  {
   "cell_type": "code",
   "execution_count": 15,
   "id": "9720cff4",
   "metadata": {},
   "outputs": [
    {
     "data": {
      "text/plain": [
       "str"
      ]
     },
     "execution_count": 15,
     "metadata": {},
     "output_type": "execute_result"
    }
   ],
   "source": [
    "type(nombre)"
   ]
  },
  {
   "cell_type": "code",
   "execution_count": 16,
   "id": "bc79c481",
   "metadata": {},
   "outputs": [
    {
     "data": {
      "text/plain": [
       "'Victor'"
      ]
     },
     "execution_count": 16,
     "metadata": {},
     "output_type": "execute_result"
    }
   ],
   "source": [
    "nombre"
   ]
  },
  {
   "cell_type": "code",
   "execution_count": 17,
   "id": "0d927e49",
   "metadata": {},
   "outputs": [],
   "source": [
    "decimal=10.54"
   ]
  },
  {
   "cell_type": "code",
   "execution_count": 18,
   "id": "a88da1f0",
   "metadata": {},
   "outputs": [
    {
     "data": {
      "text/plain": [
       "10.54"
      ]
     },
     "execution_count": 18,
     "metadata": {},
     "output_type": "execute_result"
    }
   ],
   "source": [
    "decimal"
   ]
  },
  {
   "cell_type": "code",
   "execution_count": 19,
   "id": "db0ae9ff",
   "metadata": {},
   "outputs": [
    {
     "data": {
      "text/plain": [
       "float"
      ]
     },
     "execution_count": 19,
     "metadata": {},
     "output_type": "execute_result"
    }
   ],
   "source": [
    "type(decimal)"
   ]
  },
  {
   "cell_type": "code",
   "execution_count": 20,
   "id": "36294c05",
   "metadata": {},
   "outputs": [],
   "source": [
    "C=19"
   ]
  },
  {
   "cell_type": "code",
   "execution_count": 21,
   "id": "239b8b7a",
   "metadata": {},
   "outputs": [],
   "source": [
    "C=18\n",
    "D=20"
   ]
  },
  {
   "cell_type": "code",
   "execution_count": 22,
   "id": "04c602e4",
   "metadata": {},
   "outputs": [
    {
     "data": {
      "text/plain": [
       "{'__name__': '__main__',\n",
       " '__doc__': 'Automatically created module for IPython interactive environment',\n",
       " '__package__': None,\n",
       " '__loader__': None,\n",
       " '__spec__': None,\n",
       " '__builtin__': <module 'builtins' (built-in)>,\n",
       " '__builtins__': <module 'builtins' (built-in)>,\n",
       " '_ih': ['',\n",
       "  'print Nice',\n",
       "  'print(nice)',\n",
       "  'print \"Nice\"',\n",
       "  'print(\"Nice\")',\n",
       "  'Nice = 4',\n",
       "  'if Nice = 4;\\n    print(\"Esoo\"),',\n",
       "  'print(\"Hola mundo de python fundamentals\")',\n",
       "  '1+2',\n",
       "  '10-5',\n",
       "  '12/2',\n",
       "  'x=100',\n",
       "  'x',\n",
       "  'type(x)',\n",
       "  'nombre=\"Victor\"',\n",
       "  'type(nombre)',\n",
       "  'nombre',\n",
       "  'decimal=10.54',\n",
       "  'decimal',\n",
       "  'type(decimal)',\n",
       "  'C=19',\n",
       "  'C=18\\nD=20',\n",
       "  'vars()'],\n",
       " '_oh': {8: 3,\n",
       "  9: 5,\n",
       "  10: 6.0,\n",
       "  12: 100,\n",
       "  13: int,\n",
       "  15: str,\n",
       "  16: 'Victor',\n",
       "  18: 10.54,\n",
       "  19: float},\n",
       " '_dh': ['C:\\\\Users\\\\VCARRANZA\\\\Documents\\\\python'],\n",
       " 'In': ['',\n",
       "  'print Nice',\n",
       "  'print(nice)',\n",
       "  'print \"Nice\"',\n",
       "  'print(\"Nice\")',\n",
       "  'Nice = 4',\n",
       "  'if Nice = 4;\\n    print(\"Esoo\"),',\n",
       "  'print(\"Hola mundo de python fundamentals\")',\n",
       "  '1+2',\n",
       "  '10-5',\n",
       "  '12/2',\n",
       "  'x=100',\n",
       "  'x',\n",
       "  'type(x)',\n",
       "  'nombre=\"Victor\"',\n",
       "  'type(nombre)',\n",
       "  'nombre',\n",
       "  'decimal=10.54',\n",
       "  'decimal',\n",
       "  'type(decimal)',\n",
       "  'C=19',\n",
       "  'C=18\\nD=20',\n",
       "  'vars()'],\n",
       " 'Out': {8: 3,\n",
       "  9: 5,\n",
       "  10: 6.0,\n",
       "  12: 100,\n",
       "  13: int,\n",
       "  15: str,\n",
       "  16: 'Victor',\n",
       "  18: 10.54,\n",
       "  19: float},\n",
       " 'get_ipython': <bound method InteractiveShell.get_ipython of <ipykernel.zmqshell.ZMQInteractiveShell object at 0x000001FA04C12518>>,\n",
       " 'exit': <IPython.core.autocall.ZMQExitAutocall at 0x1fa04c48d68>,\n",
       " 'quit': <IPython.core.autocall.ZMQExitAutocall at 0x1fa04c48d68>,\n",
       " '_': float,\n",
       " '__': 10.54,\n",
       " '___': 'Victor',\n",
       " '_i': 'C=18\\nD=20',\n",
       " '_ii': 'C=19',\n",
       " '_iii': 'type(decimal)',\n",
       " '_i1': 'print Nice',\n",
       " '_i2': 'print(nice)',\n",
       " '_i3': 'print \"Nice\"',\n",
       " '_i4': 'print(\"Nice\")',\n",
       " '_i5': 'Nice = 4',\n",
       " 'Nice': 4,\n",
       " '_i6': 'if Nice = 4;\\n    print(\"Esoo\"),',\n",
       " '_i7': 'print(\"Hola mundo de python fundamentals\")',\n",
       " '_i8': '1+2',\n",
       " '_8': 3,\n",
       " '_i9': '10-5',\n",
       " '_9': 5,\n",
       " '_i10': '12/2',\n",
       " '_10': 6.0,\n",
       " '_i11': 'x=100',\n",
       " 'x': 100,\n",
       " '_i12': 'x',\n",
       " '_12': 100,\n",
       " '_i13': 'type(x)',\n",
       " '_13': int,\n",
       " '_i14': 'nombre=\"Victor\"',\n",
       " 'nombre': 'Victor',\n",
       " '_i15': 'type(nombre)',\n",
       " '_15': str,\n",
       " '_i16': 'nombre',\n",
       " '_16': 'Victor',\n",
       " '_i17': 'decimal=10.54',\n",
       " 'decimal': 10.54,\n",
       " '_i18': 'decimal',\n",
       " '_18': 10.54,\n",
       " '_i19': 'type(decimal)',\n",
       " '_19': float,\n",
       " '_i20': 'C=19',\n",
       " 'C': 18,\n",
       " '_i21': 'C=18\\nD=20',\n",
       " 'D': 20,\n",
       " '_i22': 'vars()'}"
      ]
     },
     "execution_count": 22,
     "metadata": {},
     "output_type": "execute_result"
    }
   ],
   "source": [
    "vars()"
   ]
  },
  {
   "cell_type": "code",
   "execution_count": null,
   "id": "5685a514",
   "metadata": {},
   "outputs": [],
   "source": []
  }
 ],
 "metadata": {
  "kernelspec": {
   "display_name": "Python 3",
   "language": "python",
   "name": "python3"
  },
  "language_info": {
   "codemirror_mode": {
    "name": "ipython",
    "version": 3
   },
   "file_extension": ".py",
   "mimetype": "text/x-python",
   "name": "python",
   "nbconvert_exporter": "python",
   "pygments_lexer": "ipython3",
   "version": "3.6.13"
  }
 },
 "nbformat": 4,
 "nbformat_minor": 5
}

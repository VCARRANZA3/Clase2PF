{
 "cells": [
  {
   "cell_type": "markdown",
   "id": "935d1832",
   "metadata": {},
   "source": [
    "Actividad Tupla de Víctor Carranza"
   ]
  },
  {
   "cell_type": "code",
   "execution_count": 1,
   "id": "7a41a769",
   "metadata": {},
   "outputs": [
    {
     "data": {
      "text/plain": [
       "('Victor', 3, True, 91.3, 'Carranza')"
      ]
     },
     "execution_count": 1,
     "metadata": {},
     "output_type": "execute_result"
    }
   ],
   "source": [
    "# 1.- Crea una tupla con una longitud de 5. usando diferentes tipos de datos.\n",
    "#Aqui se creo una tupla con valores str, int, booleano y float\n",
    "tupla = (\"Victor\", 3, True, 91.3, \"Carranza\")\n",
    "tupla"
   ]
  },
  {
   "cell_type": "code",
   "execution_count": 2,
   "id": "59329fe1",
   "metadata": {},
   "outputs": [
    {
     "data": {
      "text/plain": [
       "['Victor', 3, True, 91.3, 'Carranza']"
      ]
     },
     "execution_count": 2,
     "metadata": {},
     "output_type": "execute_result"
    }
   ],
   "source": [
    "#2.- Cambiar la tupla a lista\n",
    "#Usando el comando list hace que se convierta la tupla a dicho formato\n",
    "lista = list(tupla)\n",
    "lista"
   ]
  },
  {
   "cell_type": "code",
   "execution_count": 3,
   "id": "b12a68d4",
   "metadata": {},
   "outputs": [
    {
     "data": {
      "text/plain": [
       "{1: 'Victor', 2: 3, 3: True, 4: 91.3, 5: 'Carranza'}"
      ]
     },
     "execution_count": 3,
     "metadata": {},
     "output_type": "execute_result"
    }
   ],
   "source": [
    "#3.- Crea un diccionario donde la clave sea del 1 al 5 y los elementos los datos de la lista\n",
    "#Primero se creo las llaves para asignarlas con la lista a través del comando dict y zip que permite unir dos listas.\n",
    "llaves = [1,2,3,4,5]\n",
    "diccionario = dict(zip(llaves,lista))\n",
    "diccionario"
   ]
  }
 ],
 "metadata": {
  "kernelspec": {
   "display_name": "Python 3",
   "language": "python",
   "name": "python3"
  },
  "language_info": {
   "codemirror_mode": {
    "name": "ipython",
    "version": 3
   },
   "file_extension": ".py",
   "mimetype": "text/x-python",
   "name": "python",
   "nbconvert_exporter": "python",
   "pygments_lexer": "ipython3",
   "version": "3.6.13"
  }
 },
 "nbformat": 4,
 "nbformat_minor": 5
}

{
 "cells": [
  {
   "cell_type": "markdown",
   "id": "34eb04c5",
   "metadata": {},
   "source": [
    "Actividad Calculadora de Victor Carranza"
   ]
  },
  {
   "cell_type": "code",
   "execution_count": 1,
   "id": "13eee036",
   "metadata": {},
   "outputs": [],
   "source": [
    "#Aqui definimos la clase para la función de calculadora\n",
    "class Calculadora:\n",
    "    def __init__(self, numero1, numero2):\n",
    "        self.numero1 = float(numero1)\n",
    "        self.numero2 = float(numero2)\n",
    "    def Sumar(self):\n",
    "        adicion = self.numero1 + self.numero2\n",
    "        print(\"La suma es: \", adicion)\n",
    "    def Restar(self):\n",
    "        deduccion = self.numero1 - self.numero2\n",
    "        print(\"La resta es: \", deduccion)\n",
    "    def Multiplicar(self):\n",
    "        multiplicacion = self.numero1 * self.numero2\n",
    "        print(\"La multiplicacion es: \", multiplicacion)\n",
    "    def Dividir(self):\n",
    "        division = self.numero1 / self.numero2\n",
    "        print(\"La division es: \", division)"
   ]
  },
  {
   "cell_type": "code",
   "execution_count": 2,
   "id": "dd932810",
   "metadata": {},
   "outputs": [
    {
     "name": "stdout",
     "output_type": "stream",
     "text": [
      "Ingrese el primer numero: 10\n",
      "Ingrese el segundo numero: 20\n",
      "La suma es:  30.0\n",
      "La resta es:  -10.0\n",
      "La multiplicacion es:  200.0\n",
      "La division es:  0.5\n"
     ]
    }
   ],
   "source": [
    "#Teniendo ya la clase, pedimos los numeros que se utilizaran en la calculadora\n",
    "numero1 = input(\"Ingrese el primer numero: \")\n",
    "numero2 = input(\"Ingrese el segundo numero: \")\n",
    "Calculadora = Calculadora(numero1, numero2)\n",
    "Calculadora.Sumar()\n",
    "Calculadora.Restar()\n",
    "Calculadora.Multiplicar()\n",
    "Calculadora.Dividir()"
   ]
  }
 ],
 "metadata": {
  "kernelspec": {
   "display_name": "Python 3 (ipykernel)",
   "language": "python",
   "name": "python3"
  },
  "language_info": {
   "codemirror_mode": {
    "name": "ipython",
    "version": 3
   },
   "file_extension": ".py",
   "mimetype": "text/x-python",
   "name": "python",
   "nbconvert_exporter": "python",
   "pygments_lexer": "ipython3",
   "version": "3.9.12"
  }
 },
 "nbformat": 4,
 "nbformat_minor": 5
}

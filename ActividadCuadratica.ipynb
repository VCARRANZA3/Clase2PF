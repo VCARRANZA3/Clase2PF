{
 "cells": [
  {
   "cell_type": "markdown",
   "id": "c86f1837",
   "metadata": {},
   "source": [
    "Actividad Funcion Cuadratica de Victor Carranza"
   ]
  },
  {
   "cell_type": "code",
   "execution_count": 1,
   "id": "059930ef",
   "metadata": {},
   "outputs": [
    {
     "name": "stdout",
     "output_type": "stream",
     "text": [
      "Los resultados son 2.0 y -4.0\n"
     ]
    }
   ],
   "source": [
    "#Crea una función donde recibas como argumentos los parámetros reales de una función cuadrática, y te regrese x1 y x2.\n",
    "from math import sqrt\n",
    "def cuadratica(a,b,c):\n",
    "    x1 = ((-b)+sqrt((b*b)-(4*a*c)))/(2*a)\n",
    "    x2 = ((-b)-sqrt((b*b)-(4*a*c)))/(2*a)\n",
    "    return print(\"Los resultados son\", x1, \"y\", x2)\n",
    "cuadratica(1,2,-8)"
   ]
  }
 ],
 "metadata": {
  "kernelspec": {
   "display_name": "Python 3 (ipykernel)",
   "language": "python",
   "name": "python3"
  },
  "language_info": {
   "codemirror_mode": {
    "name": "ipython",
    "version": 3
   },
   "file_extension": ".py",
   "mimetype": "text/x-python",
   "name": "python",
   "nbconvert_exporter": "python",
   "pygments_lexer": "ipython3",
   "version": "3.9.12"
  }
 },
 "nbformat": 4,
 "nbformat_minor": 5
}

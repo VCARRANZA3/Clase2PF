{
 "cells": [
  {
   "cell_type": "markdown",
   "id": "ee2c9fab",
   "metadata": {},
   "source": [
    "Actividad Compras por Cliente de Víctor Carranza"
   ]
  },
  {
   "cell_type": "code",
   "execution_count": 1,
   "id": "2d4fdbe8",
   "metadata": {},
   "outputs": [],
   "source": [
    "#Crear un programa donde el usuario ingresa los montos de las compras de un cliente (se desconoce la cantidad de datos), cortando el ingreso de datos cuando el usuario ingresa el monto 0.\n",
    "#Si ingresa una cantidad negativa, no debe procesarse y se le debe solicitar que ingrese una nueva cantidad. Al finalizar, informar el total a pagar teniendo en cuenta que, si las ventas superan el total de $1000, se debe aplicar un 10% de descuento."
   ]
  },
  {
   "cell_type": "code",
   "execution_count": 2,
   "id": "04e4bc74",
   "metadata": {},
   "outputs": [
    {
     "name": "stdout",
     "output_type": "stream",
     "text": [
      "Ingrese el monto de las compras del cliente (Ponga 0 para terminar): 300\n",
      "Ingrese los montos de las compras del cliente (Ponga 0 para terminar): 50\n",
      "Ingrese los montos de las compras del cliente (Ponga 0 para terminar): -500\n",
      "Favor de no poner numeros negativos. Ingrese los montos de las compras del cliente (Ponga 0 para terminar): 1000\n",
      "Ingrese los montos de las compras del cliente (Ponga 0 para terminar): 0\n",
      "Su total es de 1215.0 pesos.\n"
     ]
    }
   ],
   "source": [
    "Total = 0\n",
    "Compra = int(input(\"Ingrese el monto de las compras del cliente (Ponga 0 para terminar): \"))\n",
    "while Compra != 0:\n",
    "    if Compra > 0:\n",
    "        Total = Total + Compra\n",
    "        Compra = int(input(\"Ingrese los montos de las compras del cliente (Ponga 0 para terminar): \"))\n",
    "    else:\n",
    "        Compra = int(input(\"Favor de no poner numeros negativos. Ingrese los montos de las compras del cliente (Ponga 0 para terminar): \"))\n",
    "if Total > 1000:\n",
    "    Final = Total * 0.90\n",
    "    print(\"Su total es de\", Final, \"pesos.\")\n",
    "else:\n",
    "    print(\"Su total es de\", Total, \"pesos.\")"
   ]
  }
 ],
 "metadata": {
  "kernelspec": {
   "display_name": "Python 3 (ipykernel)",
   "language": "python",
   "name": "python3"
  },
  "language_info": {
   "codemirror_mode": {
    "name": "ipython",
    "version": 3
   },
   "file_extension": ".py",
   "mimetype": "text/x-python",
   "name": "python",
   "nbconvert_exporter": "python",
   "pygments_lexer": "ipython3",
   "version": "3.9.12"
  }
 },
 "nbformat": 4,
 "nbformat_minor": 5
}

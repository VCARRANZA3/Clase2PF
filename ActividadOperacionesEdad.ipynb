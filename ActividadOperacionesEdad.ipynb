{
 "cells": [
  {
   "cell_type": "markdown",
   "id": "5a3eedc5",
   "metadata": {},
   "source": [
    "Actividad Operaciones Edad de Victor Carranza"
   ]
  },
  {
   "cell_type": "code",
   "execution_count": 5,
   "id": "4d52a007",
   "metadata": {},
   "outputs": [
    {
     "data": {
      "text/plain": [
       "True"
      ]
     },
     "execution_count": 5,
     "metadata": {},
     "output_type": "execute_result"
    }
   ],
   "source": [
    "#1.-El doble de mi edad tiene 24 años, ¿cuántos años tengo?\n",
    "Edad = 24/2\n",
    "Edad*2 == 24"
   ]
  },
  {
   "cell_type": "code",
   "execution_count": 11,
   "id": "23ad3cca",
   "metadata": {},
   "outputs": [
    {
     "data": {
      "text/plain": [
       "True"
      ]
     },
     "execution_count": 11,
     "metadata": {},
     "output_type": "execute_result"
    }
   ],
   "source": [
    "#2.- A un tercio de la edad de mi hermana le disminuyo 15 años. Tengo 6 años. ¿Qué edad tiene?\n",
    "Hermano=6\n",
    "Hermana=(Hermano+15)*3\n",
    "Hermana/3-15 == Hermano"
   ]
  },
  {
   "cell_type": "code",
   "execution_count": 12,
   "id": "fa8e53ef",
   "metadata": {},
   "outputs": [
    {
     "data": {
      "text/plain": [
       "True"
      ]
     },
     "execution_count": 12,
     "metadata": {},
     "output_type": "execute_result"
    }
   ],
   "source": [
    "#3.-Determina quién es más grande.\n",
    "Hermana > Hermano"
   ]
  }
 ],
 "metadata": {
  "kernelspec": {
   "display_name": "Python 3",
   "language": "python",
   "name": "python3"
  },
  "language_info": {
   "codemirror_mode": {
    "name": "ipython",
    "version": 3
   },
   "file_extension": ".py",
   "mimetype": "text/x-python",
   "name": "python",
   "nbconvert_exporter": "python",
   "pygments_lexer": "ipython3",
   "version": "3.6.13"
  }
 },
 "nbformat": 4,
 "nbformat_minor": 5
}

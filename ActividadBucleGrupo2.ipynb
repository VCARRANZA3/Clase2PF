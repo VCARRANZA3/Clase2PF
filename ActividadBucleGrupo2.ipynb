{
 "cells": [
  {
   "cell_type": "markdown",
   "metadata": {},
   "source": [
    "Actividad Bucle for en grupo de Victor Carranza"
   ]
  },
  {
   "cell_type": "code",
   "execution_count": 1,
   "metadata": {},
   "outputs": [],
   "source": [
    "#Cada compañero dirá un número. Los guardarás en un diccionario, junto con el nombre de tu pareja.\n",
    "Diccionario = {\"Miguel\":18, \"Edwin\":23, \"Erick\":28, \"Pedro\":16, \"Pau\":25, \"Liliana\":20, \"Marco\":25, \"Claudia\":21, \"Roland\":25, \"Gerardo\":9, \"Jonathan\":15, \"Paco\":13, \"Yolanda\":4, \"Julio\":28, \"Victor\":3, \"Gustavo\":8, \"Paulina\":25}"
   ]
  },
  {
   "cell_type": "code",
   "execution_count": 2,
   "metadata": {},
   "outputs": [
    {
     "name": "stdout",
     "output_type": "stream",
     "text": [
      "Estudiante Miguel escogió el número 18\n",
      "Estudiante Edwin escogió el número 23\n",
      "Estudiante Erick escogió el número 28\n",
      "Estudiante Pedro escogió el número 16\n",
      "Estudiante Pau escogió el número 25\n",
      "Estudiante Liliana escogió el número 20\n",
      "Estudiante Marco escogió el número 25\n",
      "Estudiante Claudia escogió el número 21\n",
      "Estudiante Roland escogió el número 25\n",
      "Estudiante Gerardo escogió el número 9\n",
      "Estudiante Jonathan escogió el número 15\n",
      "Estudiante Paco escogió el número 13\n",
      "Estudiante Yolanda escogió el número 4\n",
      "Estudiante Julio escogió el número 28\n",
      "Estudiante Victor escogió el número 3\n",
      "Estudiante Gustavo escogió el número 8\n",
      "Estudiante Paulina escogió el número 25\n"
     ]
    }
   ],
   "source": [
    "#Luego imprimirán los valores del diccionario (nombre de la persona y número que dijo) (Usando un bucle for).\n",
    "for nombre, numero in Diccionario.items():\n",
    "    print(\"Estudiante\", nombre, \"escogió el número\", numero)"
   ]
  },
  {
   "cell_type": "code",
   "execution_count": 3,
   "metadata": {},
   "outputs": [
    {
     "name": "stdout",
     "output_type": "stream",
     "text": [
      "El número más grande es: 28\n",
      "El número más pequeño es: 3\n"
     ]
    }
   ],
   "source": [
    "#Al ﬁnal imprimirán dos mensajes, mostrando el número más grande, y el número más pequeño que dijeron, sin el nombre.\n",
    "Numeros = list(Diccionario.values())\n",
    "print(\"El número más grande es:\", max(Numeros))\n",
    "print(\"El número más pequeño es:\", min(Numeros))"
   ]
  }
 ],
 "metadata": {
  "kernelspec": {
   "display_name": "Python 3.6.13 ('python')",
   "language": "python",
   "name": "python3"
  },
  "language_info": {
   "codemirror_mode": {
    "name": "ipython",
    "version": 3
   },
   "file_extension": ".py",
   "mimetype": "text/x-python",
   "name": "python",
   "nbconvert_exporter": "python",
   "pygments_lexer": "ipython3",
   "version": "3.6.13"
  },
  "orig_nbformat": 4,
  "vscode": {
   "interpreter": {
    "hash": "256e84e13b7dc98b64b9cf09436b23d05d025a8a27ccdc5b864e09222635adae"
   }
  }
 },
 "nbformat": 4,
 "nbformat_minor": 2
}

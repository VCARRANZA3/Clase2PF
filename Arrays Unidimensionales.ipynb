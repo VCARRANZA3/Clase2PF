{
 "cells": [
  {
   "cell_type": "markdown",
   "id": "369e3296",
   "metadata": {},
   "source": [
    "Actividad Arrays Unidimensionales de Victor Carranza"
   ]
  },
  {
   "cell_type": "code",
   "execution_count": 1,
   "id": "243225da",
   "metadata": {},
   "outputs": [],
   "source": [
    "import numpy as np"
   ]
  },
  {
   "cell_type": "code",
   "execution_count": 2,
   "id": "1510a5d0",
   "metadata": {},
   "outputs": [
    {
     "data": {
      "text/plain": [
       "array([ 3,  4,  5,  6,  7,  8,  9, 10, 11, 12, 13, 14, 15, 16, 17, 18, 19,\n",
       "       20, 21, 22, 23, 24])"
      ]
     },
     "execution_count": 2,
     "metadata": {},
     "output_type": "execute_result"
    }
   ],
   "source": [
    "#1.- Crea un vector con valores dentro del rango 3 a el número que  representa tu edad.\n",
    "vector = np.array(range(3,25))\n",
    "vector"
   ]
  },
  {
   "cell_type": "code",
   "execution_count": 3,
   "id": "d583e995",
   "metadata": {},
   "outputs": [
    {
     "data": {
      "text/plain": [
       "array([0, 1, 2, 3, 4, 0, 1, 2, 3, 4])"
      ]
     },
     "execution_count": 3,
     "metadata": {},
     "output_type": "execute_result"
    }
   ],
   "source": [
    "#2.- Crea un arreglo con los siguientes elementos:\n",
    "arreglo = np.array([0,1,2,3,4,0,1,2,3,4])\n",
    "arreglo"
   ]
  },
  {
   "cell_type": "code",
   "execution_count": 4,
   "id": "ebe9c8b3",
   "metadata": {},
   "outputs": [
    {
     "data": {
      "text/plain": [
       "array([0, 0, 1, 1, 2, 2, 3, 3, 4, 4])"
      ]
     },
     "execution_count": 4,
     "metadata": {},
     "output_type": "execute_result"
    }
   ],
   "source": [
    "#3.- Ordena de forma ascendiente dicho arreglo.\n",
    "arreglo.sort()\n",
    "arreglo"
   ]
  }
 ],
 "metadata": {
  "kernelspec": {
   "display_name": "Python 3",
   "language": "python",
   "name": "python3"
  },
  "language_info": {
   "codemirror_mode": {
    "name": "ipython",
    "version": 3
   },
   "file_extension": ".py",
   "mimetype": "text/x-python",
   "name": "python",
   "nbconvert_exporter": "python",
   "pygments_lexer": "ipython3",
   "version": "3.6.13"
  }
 },
 "nbformat": 4,
 "nbformat_minor": 5
}

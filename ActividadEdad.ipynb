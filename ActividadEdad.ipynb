{
 "cells": [
  {
   "cell_type": "markdown",
   "id": "8d906d45",
   "metadata": {},
   "source": [
    "Actividad Edad de Victor Carranza"
   ]
  },
  {
   "cell_type": "code",
   "execution_count": 1,
   "id": "bfb7ad1b",
   "metadata": {},
   "outputs": [
    {
     "name": "stdout",
     "output_type": "stream",
     "text": [
      "Introduce tu edad en número: 24\n",
      "Eres mayor de edad\n"
     ]
    }
   ],
   "source": [
    "#Hagamos un programa que determine si eres mayor de edad o no\n",
    "Edad = int(input(\"Introduce tu edad en número: \"))\n",
    "if Edad >= 18:\n",
    "    print(\"Eres mayor de edad\")\n",
    "else:\n",
    "    print(\"Eres menor de edad\")"
   ]
  }
 ],
 "metadata": {
  "kernelspec": {
   "display_name": "Python 3",
   "language": "python",
   "name": "python3"
  },
  "language_info": {
   "codemirror_mode": {
    "name": "ipython",
    "version": 3
   },
   "file_extension": ".py",
   "mimetype": "text/x-python",
   "name": "python",
   "nbconvert_exporter": "python",
   "pygments_lexer": "ipython3",
   "version": "3.6.13"
  }
 },
 "nbformat": 4,
 "nbformat_minor": 5
}

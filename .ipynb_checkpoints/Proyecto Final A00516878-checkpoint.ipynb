{
 "cells": [
  {
   "cell_type": "markdown",
   "id": "996442fd",
   "metadata": {},
   "source": [
    "## Proyecto Final de Víctor Carranza (A00516878)"
   ]
  },
  {
   "cell_type": "markdown",
   "id": "dd6f859b",
   "metadata": {},
   "source": [
    "### Torneo de Piedra, Papel o Tijera"
   ]
  },
  {
   "cell_type": "markdown",
   "id": "74064d7d",
   "metadata": {},
   "source": [
    "- Crea \"jugadores\" que tengan las siguientes estrategias:\n",
    "\n",
    "0.  Jugar al azar\n",
    "1.  Jugar siempre piedra\n",
    "2.  Jugar siempre tijera\n",
    "3.  Jugar siempre papel\n",
    "4.  Jugar siempre lo que tiró el contrario en el juego anterior\n",
    "5.  Jugar lo mismo si ganó, jugar lo que tiró el contrario si perdió\n",
    "6.  Jugar lo mismo si perdió, jugar lo que tiró el contrario si ganó\n",
    "7.  Jugar lo que derrotaría a la elección anterior del adversario\n",
    "8.  Jugar lo sería derrotado dada la elección anterior del adversario\n",
    "9. Jugar lo que derrotaría la decisión más frecuente del adversario\n",
    "10. Jugar suponiendo que el adversario sigue un ciclo (i.e. R, S, P, R, S, P,...)\n",
    "\n",
    "- Crea un torneo, estilo round-robin en el que cada \"jugador\" juegue 100 partidos contra cada jugador.\n",
    "\n",
    "- Guarda todas las partidas (quién jugó, quién ganó, qué tiro cada uno) en un archivo.\n",
    "\n",
    "- Calcula el rating ELO de cada \"jugador\"."
   ]
  },
  {
   "cell_type": "markdown",
   "id": "cbf3cd8c",
   "metadata": {},
   "source": [
    "### Elaboración del Código"
   ]
  },
  {
   "cell_type": "markdown",
   "id": "8426ee19",
   "metadata": {},
   "source": [
    "#### Preparativos"
   ]
  },
  {
   "cell_type": "markdown",
   "id": "3091ad27",
   "metadata": {},
   "source": [
    "Aquí se importan los paquetes necesarios para que funcione el código y se tengan las herramientas necesarias para el análisis."
   ]
  },
  {
   "cell_type": "code",
   "execution_count": 1,
   "id": "cfa8fa70",
   "metadata": {},
   "outputs": [],
   "source": [
    "#Paquete para obtener selecciones aleatorias\n",
    "import random\n",
    "#Paquete para manejar bases de datos\n",
    "import pandas as pd"
   ]
  },
  {
   "cell_type": "markdown",
   "id": "bff54e64",
   "metadata": {},
   "source": [
    "#### Jugadores"
   ]
  },
  {
   "cell_type": "markdown",
   "id": "64ed2ff4",
   "metadata": {},
   "source": [
    "Se definirá una class llamada \"Jugador\" que contenga las funciones necesarias para ejecutar las distintas estrategias de los jugadores del torneo."
   ]
  },
  {
   "cell_type": "code",
   "execution_count": 2,
   "id": "b3ca6d57",
   "metadata": {},
   "outputs": [],
   "source": [
    "#Definiendo la clase \"Jugador\"\n",
    "class Jugador:\n",
    "    \n",
    "    #Inicializar los atributos de Estrategia, su Oponente, Historial de partidas, el Elo base y Elo del contrario\n",
    "    def __init__(self, Estrategia):\n",
    "        self.Estrategia = Estrategia\n",
    "        self.Oponente = None\n",
    "        self.Historial = []\n",
    "        self.Elo = 1000\n",
    "        self.EloTotalOponente = 0\n",
    "        self.Nombre = None\n",
    "        \n",
    "        #Asignar los nombres de las estrategias para la tabla de Elo y la grafica\n",
    "        if Estrategia == 0:\n",
    "            self.Nombre = 'Jugar al azar'\n",
    "        elif Estrategia == 1:\n",
    "            self.Nombre = 'Siempre piedra'\n",
    "        elif Estrategia == 2:\n",
    "            self.Nombre = 'Siempre tijera'\n",
    "        elif Estrategia == 3:\n",
    "            self.Nombre = 'Siempre papel'\n",
    "        elif Estrategia == 4:\n",
    "            self.Nombre = 'Copiar opcion pasada del contrario'\n",
    "        elif Estrategia == 5:\n",
    "            self.Nombre = 'Repetir opcion propia si gano o empato, copiar opcion pasada del contrario si pierdo'\n",
    "        elif Estrategia == 6:\n",
    "            self.Nombre = 'Copiar opcion pasada del contrario si gano o empato, repetir opcion propia si pierdo'\n",
    "        elif Estrategia == 7:\n",
    "            self.Nombre = 'Mejor opcion contra la opcion pasada del rival'\n",
    "        elif Estrategia == 8:\n",
    "            self.Nombre = 'Peor opcion contra la opcion pasada del rival'\n",
    "        elif Estrategia == 9:\n",
    "            self.Nombre = 'Mejor opcion contra la opcion popular del rival'\n",
    "        elif Estrategia == 10:\n",
    "            self.Nombre = 'Opcion que gana el ciclo RSP del contrario'\n",
    "        \n",
    "    #Funcion para las estrategias 4 al 8 que requieren el ultimo resultado disponible\n",
    "    def UltimoResultado(self):\n",
    "        return self.Historial[len(self.Historial) - 1] if self.Historial else None\n",
    "    \n",
    "    #Funcion para las estrategias 0 y 4 al 9 que requieren una opcion al azar si es la primer partida\n",
    "    def OpcionAlAzar(self):\n",
    "        return random.choice(['Piedra', 'Tijera', 'Papel'])\n",
    "    \n",
    "    #Funcion para las estrategias 7 y 9 que requieren la mejor opcion como respuesta\n",
    "    def MejorOpcion(self, Opcion):\n",
    "        if Opcion == 'Piedra':\n",
    "            return 'Papel'\n",
    "        elif Opcion == 'Tijera':\n",
    "            return 'Piedra'\n",
    "        else:\n",
    "            return 'Tijera'\n",
    "        \n",
    "    #Funcion para la estrategia 8 que requiere la peor opcion como respuesta\n",
    "    def PeorOpcion(self, Opcion):\n",
    "        if Opcion == 'Piedra':\n",
    "            return 'Tijera'\n",
    "        elif Opcion == 'Tijera':\n",
    "            return 'Papel'\n",
    "        else:\n",
    "            return 'Piedra'\n",
    "\n",
    "    #Funcion para la estrategia 9 que requiere la mejor opcion para la respuesta popular\n",
    "    def OpcionMasUsada(self):\n",
    "        if not self.Historial:\n",
    "            return None\n",
    "        Conteo = {'Piedra': 0, 'Tijera': 0, 'Papel': 0}\n",
    "        ConteoMaximo = 0\n",
    "        OpcionMaximo = None\n",
    "        for Opcion, _ in self.Historial:\n",
    "            Conteo[Opcion] += 1\n",
    "            if Conteo[Opcion] > ConteoMaximo:\n",
    "                ConteoMaximo = Conteo[Opcion]\n",
    "                OpcionMaximo = Opcion\n",
    "        return OpcionMaximo\n",
    "\n",
    "    #Funcion para guardar los resultados en el historial\n",
    "    def GuardarResultado(self, Opcion, Resultado):\n",
    "        self.Historial.append((Opcion, Resultado))\n",
    "        \n",
    "        #Calculo para obtener el puntaje Elo\n",
    "        self.EloTotalOponente += self.Oponente.Elo\n",
    "        Puntaje = 0\n",
    "        for _, Resultados in self.Historial:\n",
    "            if Resultados == \"Ganador\":\n",
    "                Puntaje += 1\n",
    "            elif Resultados == \"Perdedor\":\n",
    "                Puntaje -= 1\n",
    "        self.Elo = round((self.EloTotalOponente + 400 * Puntaje) / len(self.Historial), 2)\n",
    "\n",
    "    #Funcion para definir las distintas estrategias de los jugadores\n",
    "    def Jugar(self):\n",
    "        \n",
    "        #Jugador 0: Jugar al azar\n",
    "        if self.Estrategia == 0:\n",
    "            return self.OpcionAlAzar(), 'Jugar al azar'\n",
    "\n",
    "        #Jugador 1: Jugar siempre piedra\n",
    "        if self.Estrategia == 1:\n",
    "            return 'Piedra', 'Siempre piedra'\n",
    "\n",
    "        #Jugador 2: Jugar siempre tijera\n",
    "        if self.Estrategia == 2:\n",
    "            return 'Tijera', 'Siempre tijera'\n",
    "\n",
    "        #Jugador 3: Jugar siempre papel\n",
    "        if self.Estrategia == 3:\n",
    "            return 'Papel', 'Siempre papel'\n",
    "\n",
    "        #Jugador 4: Jugar siempre lo que tiro el contrario en el juego anterior\n",
    "        if self.Estrategia == 4:\n",
    "            Nombre = 'Copiar opcion pasada del contrario'\n",
    "            if not self.Oponente.Historial:\n",
    "                return self.OpcionAlAzar(), Nombre\n",
    "            OpcionPasadaOponente, _ = self.Oponente.UltimoResultado()\n",
    "            return OpcionPasadaOponente, Nombre\n",
    "\n",
    "        #Jugador 5: Jugar lo mismo si gano o empato, jugar lo que tiro el contrario si perdio\n",
    "        if self.Estrategia == 5:\n",
    "            Nombre = 'Repetir opcion propia si gano o empato, copiar opcion pasada del contrario si pierdo'\n",
    "            if not self.Historial:\n",
    "                return self.OpcionAlAzar(), Nombre\n",
    "            OpcionPasada, ResultadoPasado = self.UltimoResultado()\n",
    "            if ResultadoPasado == 'Perdedor':\n",
    "                Opcion = self.Oponente.UltimoResultado()[0] if self.Oponente.Historial else self.OpcionAlAzar()\n",
    "            else:\n",
    "                Opcion = OpcionPasada\n",
    "            return Opcion, Nombre\n",
    "\n",
    "        #Jugador 6: Jugar lo mismo si perdio, jugar lo que tiro el contrario si gano o empato\n",
    "        if self.Estrategia == 6:\n",
    "            Nombre = 'Copiar opcion pasada del contrario si gano o empato, repetir opcion propia si pierdo'\n",
    "            if not self.Historial:\n",
    "                return self.OpcionAlAzar(), Nombre\n",
    "            OpcionPasada, ResultadoPasado = self.UltimoResultado()\n",
    "            Opcion = None\n",
    "            if ResultadoPasado in ('Ganador', 'Empate'):\n",
    "                Opcion = self.Oponente.UltimoResultado()[0] if self.Oponente.Historial else self.OpcionAlAzar()\n",
    "            else:\n",
    "                Opcion = OpcionPasada\n",
    "            return Opcion, Nombre\n",
    "\n",
    "        #Jugador 7: Jugar lo que derrotaria a la eleccion anterior del adversario\n",
    "        if self.Estrategia == 7:\n",
    "            Nombre = 'Mejor opcion contra la opcion pasada del rival'\n",
    "            if not self.Oponente.Historial:\n",
    "                return self.OpcionAlAzar(), Nombre\n",
    "            UltimaOpcionOponente, _ = self.Oponente.UltimoResultado()\n",
    "            return self.MejorOpcion(UltimaOpcionOponente), Nombre\n",
    "\n",
    "        #Jugador 8: Jugar lo seria derrotado dada la eleccion anterior del adversario\n",
    "        if self.Estrategia == 8:\n",
    "            Nombre = 'Peor opcion contra la opcion pasada del rival'\n",
    "            if not self.Oponente.Historial:\n",
    "                return self.OpcionAlAzar(), Nombre\n",
    "            UltimaOpcionOponente, _ = self.Oponente.UltimoResultado()\n",
    "            return self.PeorOpcion(UltimaOpcionOponente), Nombre\n",
    "\n",
    "        #Jugador 9: Jugar lo que derrotaria la decision mas frecuente del adversario\n",
    "        if self.Estrategia == 9:\n",
    "            Nombre = 'Mejor opcion contra la opcion popular del rival'\n",
    "            if not self.Oponente.Historial:\n",
    "                return self.OpcionAlAzar(), Nombre\n",
    "            OpcionMasUsadaOponente = self.Oponente.OpcionMasUsada()\n",
    "            return self.MejorOpcion(OpcionMasUsadaOponente), Nombre\n",
    "\n",
    "        #Jugador 10: Jugar suponiendo que el adversario sigue un ciclo (i.e. R, S, P, R, S, P,...)\n",
    "        if self.Estrategia == 10:\n",
    "            OpcionesOponente = len(self.Oponente.Historial)\n",
    "            Opcion = None\n",
    "            if OpcionesOponente % 3 == 0:\n",
    "                Opcion = 'Papel'\n",
    "            elif OpcionesOponente % 3 == 1:\n",
    "                Opcion = 'Piedra'\n",
    "            else:\n",
    "                Opcion = 'Tijera'\n",
    "            return Opcion, 'Opcion que gana el ciclo RSP del contrario'"
   ]
  },
  {
   "cell_type": "markdown",
   "id": "c33a33e8",
   "metadata": {},
   "source": [
    "#### Juego"
   ]
  },
  {
   "cell_type": "markdown",
   "id": "bc36efe3",
   "metadata": {},
   "source": [
    "Se definirá una función llamada \"Juego\" que contenga las reglas del Piedra, Papel o Tijera, junto con el registro de los resultados de cada partida."
   ]
  },
  {
   "cell_type": "code",
   "execution_count": 3,
   "id": "cf546062",
   "metadata": {},
   "outputs": [],
   "source": [
    "#Funcion que inicia el Juego con Jugador 1 (x), Jugador 2 (y) y Partida\n",
    "def Juego(x: Jugador, y: Jugador, Partida: int):\n",
    "    \n",
    "    #Variables necesarias para el registro de resultados\n",
    "    J1, J1Estrategia = x.Jugar()\n",
    "    J2, J2Estrategia = y.Jugar()\n",
    "    Ganador = None\n",
    "    J1Resultado = None\n",
    "    J2Resultado = None\n",
    "\n",
    "    #Resultado del juego cuando Jugador 1 es ganador\n",
    "    if ((J1 == 'Piedra' and J2 == 'Tijera') or\n",
    "        (J1 == 'Tijera' and J2 == 'Papel') or\n",
    "        (J1 == 'Papel' and J2 == 'Piedra')):\n",
    "        Ganador = J1Estrategia\n",
    "        J1Resultado = 'Ganador'\n",
    "        J2Resultado = 'Perdedor'\n",
    "        \n",
    "    #Resultado del juego cuando hay un empate\n",
    "    elif J1 == J2:\n",
    "        Ganador = 'Empate'\n",
    "        J1Resultado = 'Empate'\n",
    "        J2Resultado = 'Empate'\n",
    "    \n",
    "    #Resultado del juego cuando Jugador 2 es ganador\n",
    "    else:\n",
    "        Ganador = J2Estrategia\n",
    "        J1Resultado = 'Perdedor'\n",
    "        J2Resultado = 'Ganador'\n",
    "\n",
    "    #Registro de los resultados para la proxima dataframe\n",
    "    x.GuardarResultado(J1, J1Resultado)\n",
    "    y.GuardarResultado(J2, J2Resultado)\n",
    "    return [Partida, J1Estrategia, J2Estrategia, Ganador, J1, J2]"
   ]
  },
  {
   "cell_type": "markdown",
   "id": "ae7af89e",
   "metadata": {},
   "source": [
    "#### Torneo"
   ]
  },
  {
   "cell_type": "markdown",
   "id": "9c77a516",
   "metadata": {},
   "source": [
    "Se definirá una función llamada \"Torneo\" que contenga cada uno de los 100 juegos del round robin y obtenga el archivo con los resultados."
   ]
  },
  {
   "cell_type": "code",
   "execution_count": 4,
   "id": "adb358d8",
   "metadata": {},
   "outputs": [],
   "source": [
    "#Funcion que inicia el Torneo\n",
    "def Torneo():\n",
    "    \n",
    "    #Creacion del dataframe para registrar los resultados\n",
    "    Base = pd.DataFrame(columns=['Juego', 'Jugador 1', 'Jugador 2', 'Ganador', 'Opcion 1', 'Opcion 2'])\n",
    "\n",
    "    #Partida inicial y numero total de juegos para cada enfrentamiento\n",
    "    Partida = 0\n",
    "    Juegos = 100\n",
    "    \n",
    "    #Ciclo de los jugadores para los enfrentamientos\n",
    "    Jugadores = [Jugador(x) for x in range(11)]\n",
    "    \n",
    "    #Creacion del round robin para los enfrentamientos de cada jugador\n",
    "    Versus = [(x, y) for x in range(len(Jugadores)) for y in range(x + 1, len(Jugadores))]\n",
    "\n",
    "    #Round robin de los Jugadores y registro de los resultados\n",
    "    for x, y in Versus:\n",
    "        J1 = Jugadores[x]\n",
    "        J2 = Jugadores[y]\n",
    "        J1.Oponente = J2\n",
    "        J2.Oponente = J1\n",
    "        for _ in range(Juegos):\n",
    "            Partida += 1\n",
    "            Base.loc[Base.shape[0]] = Juego(J1, J2, Partida)\n",
    "    \n",
    "    #Guarda los resultados del torneo como archivo csv en el directorio\n",
    "    Base.to_csv('Archivo A00516878.csv', index = False)\n",
    "    \n",
    "    #Creacion del dataframe para registrar el Elo\n",
    "    JugadoresElos = pd.DataFrame(columns=['Jugador', 'Elo'])\n",
    "    \n",
    "    #Registro del puntaje de Elo para cada jugador\n",
    "    for P in Jugadores:\n",
    "        JugadoresElos.loc[JugadoresElos.shape[0]] = [P.Nombre, P.Elo]\n",
    "        \n",
    "    #Guardar los resultados del Elo como archivo csv en el directorio\n",
    "    JugadoresElos.to_csv('Elo de Jugadores A00516878.csv', index = False)\n",
    "    \n",
    "    #Creacion del dataframe para crear la grafica\n",
    "    Grafica = pd.DataFrame(columns=['Jugador', 'Gano', 'Empato', 'Perdio'])\n",
    "    \n",
    "    #Registro de victorias, empates y derrotas de cada jugador para la grafica\n",
    "    for P in Jugadores:\n",
    "        Ganadas = 0\n",
    "        Empatadas = 0\n",
    "        Perdidas = 0\n",
    "        for H in P.Historial:\n",
    "            Resultado = H[1]\n",
    "            if Resultado == 'Ganador':\n",
    "                Ganadas += 1\n",
    "            elif Resultado == 'Empate':\n",
    "                Empatadas += 1\n",
    "            elif Resultado == 'Perdedor':\n",
    "                Perdidas += 1\n",
    "        Grafica.loc[Grafica.shape[0]] = [P.Nombre, Ganadas, Empatadas, Perdidas]\n",
    "    \n",
    "    #Guardar los resultados de victorias, empates y derrotas como archivo csv en el directorio\n",
    "    Grafica.to_csv('Grafica A00516878.csv', index = False)"
   ]
  },
  {
   "cell_type": "markdown",
   "id": "9c677198",
   "metadata": {},
   "source": [
    "### Simulación del Torneo"
   ]
  },
  {
   "cell_type": "markdown",
   "id": "d5f11a20",
   "metadata": {},
   "source": [
    "Con el código terminado, se correrá la función realizada para obtener los resultados de la simulación del torneo."
   ]
  },
  {
   "cell_type": "code",
   "execution_count": 5,
   "id": "5292f8dd",
   "metadata": {},
   "outputs": [],
   "source": [
    "Torneo()"
   ]
  },
  {
   "cell_type": "markdown",
   "id": "9d263ff3",
   "metadata": {},
   "source": [
    "### Análisis de Resultados"
   ]
  },
  {
   "cell_type": "markdown",
   "id": "727136ba",
   "metadata": {},
   "source": [
    "Primero se cargaron los archivos obtenidos de la función para enseñar los resultados obtenidos."
   ]
  },
  {
   "cell_type": "code",
   "execution_count": 6,
   "id": "a30bc3e4",
   "metadata": {},
   "outputs": [],
   "source": [
    "Archivo = pd.read_csv('Archivo A00516878.csv')\n",
    "Elo = pd.read_csv('Elo de Jugadores A00516878.csv')\n",
    "Grafica = pd.read_csv('Grafica A00516878.csv')"
   ]
  },
  {
   "cell_type": "markdown",
   "id": "b2f4ca8c",
   "metadata": {},
   "source": [
    "Se enseñará una muestra de los datos del Archivo, que posee quién jugó, quién ganó y qué tiro cada uno de los jugadores en todas las partidas. El completo se puede ver en el anexo Archivo A00516878."
   ]
  },
  {
   "cell_type": "code",
   "execution_count": 7,
   "id": "4c01360f",
   "metadata": {},
   "outputs": [
    {
     "data": {
      "text/html": [
       "<div>\n",
       "<style scoped>\n",
       "    .dataframe tbody tr th:only-of-type {\n",
       "        vertical-align: middle;\n",
       "    }\n",
       "\n",
       "    .dataframe tbody tr th {\n",
       "        vertical-align: top;\n",
       "    }\n",
       "\n",
       "    .dataframe thead th {\n",
       "        text-align: right;\n",
       "    }\n",
       "</style>\n",
       "<table border=\"1\" class=\"dataframe\">\n",
       "  <thead>\n",
       "    <tr style=\"text-align: right;\">\n",
       "      <th></th>\n",
       "      <th>Juego</th>\n",
       "      <th>Jugador 1</th>\n",
       "      <th>Jugador 2</th>\n",
       "      <th>Ganador</th>\n",
       "      <th>Opcion 1</th>\n",
       "      <th>Opcion 2</th>\n",
       "    </tr>\n",
       "  </thead>\n",
       "  <tbody>\n",
       "    <tr>\n",
       "      <th>0</th>\n",
       "      <td>1</td>\n",
       "      <td>Jugar al azar</td>\n",
       "      <td>Siempre piedra</td>\n",
       "      <td>Empate</td>\n",
       "      <td>Piedra</td>\n",
       "      <td>Piedra</td>\n",
       "    </tr>\n",
       "    <tr>\n",
       "      <th>1</th>\n",
       "      <td>2</td>\n",
       "      <td>Jugar al azar</td>\n",
       "      <td>Siempre piedra</td>\n",
       "      <td>Siempre piedra</td>\n",
       "      <td>Tijera</td>\n",
       "      <td>Piedra</td>\n",
       "    </tr>\n",
       "    <tr>\n",
       "      <th>2</th>\n",
       "      <td>3</td>\n",
       "      <td>Jugar al azar</td>\n",
       "      <td>Siempre piedra</td>\n",
       "      <td>Empate</td>\n",
       "      <td>Piedra</td>\n",
       "      <td>Piedra</td>\n",
       "    </tr>\n",
       "    <tr>\n",
       "      <th>3</th>\n",
       "      <td>4</td>\n",
       "      <td>Jugar al azar</td>\n",
       "      <td>Siempre piedra</td>\n",
       "      <td>Siempre piedra</td>\n",
       "      <td>Tijera</td>\n",
       "      <td>Piedra</td>\n",
       "    </tr>\n",
       "    <tr>\n",
       "      <th>4</th>\n",
       "      <td>5</td>\n",
       "      <td>Jugar al azar</td>\n",
       "      <td>Siempre piedra</td>\n",
       "      <td>Jugar al azar</td>\n",
       "      <td>Papel</td>\n",
       "      <td>Piedra</td>\n",
       "    </tr>\n",
       "    <tr>\n",
       "      <th>...</th>\n",
       "      <td>...</td>\n",
       "      <td>...</td>\n",
       "      <td>...</td>\n",
       "      <td>...</td>\n",
       "      <td>...</td>\n",
       "      <td>...</td>\n",
       "    </tr>\n",
       "    <tr>\n",
       "      <th>5495</th>\n",
       "      <td>5496</td>\n",
       "      <td>Mejor opcion contra la opcion popular del rival</td>\n",
       "      <td>Opcion que gana el ciclo RSP del contrario</td>\n",
       "      <td>Empate</td>\n",
       "      <td>Tijera</td>\n",
       "      <td>Tijera</td>\n",
       "    </tr>\n",
       "    <tr>\n",
       "      <th>5496</th>\n",
       "      <td>5497</td>\n",
       "      <td>Mejor opcion contra la opcion popular del rival</td>\n",
       "      <td>Opcion que gana el ciclo RSP del contrario</td>\n",
       "      <td>Mejor opcion contra la opcion popular del rival</td>\n",
       "      <td>Tijera</td>\n",
       "      <td>Papel</td>\n",
       "    </tr>\n",
       "    <tr>\n",
       "      <th>5497</th>\n",
       "      <td>5498</td>\n",
       "      <td>Mejor opcion contra la opcion popular del rival</td>\n",
       "      <td>Opcion que gana el ciclo RSP del contrario</td>\n",
       "      <td>Opcion que gana el ciclo RSP del contrario</td>\n",
       "      <td>Tijera</td>\n",
       "      <td>Piedra</td>\n",
       "    </tr>\n",
       "    <tr>\n",
       "      <th>5498</th>\n",
       "      <td>5499</td>\n",
       "      <td>Mejor opcion contra la opcion popular del rival</td>\n",
       "      <td>Opcion que gana el ciclo RSP del contrario</td>\n",
       "      <td>Empate</td>\n",
       "      <td>Tijera</td>\n",
       "      <td>Tijera</td>\n",
       "    </tr>\n",
       "    <tr>\n",
       "      <th>5499</th>\n",
       "      <td>5500</td>\n",
       "      <td>Mejor opcion contra la opcion popular del rival</td>\n",
       "      <td>Opcion que gana el ciclo RSP del contrario</td>\n",
       "      <td>Mejor opcion contra la opcion popular del rival</td>\n",
       "      <td>Tijera</td>\n",
       "      <td>Papel</td>\n",
       "    </tr>\n",
       "  </tbody>\n",
       "</table>\n",
       "<p>5500 rows × 6 columns</p>\n",
       "</div>"
      ],
      "text/plain": [
       "      Juego                                        Jugador 1  \\\n",
       "0         1                                    Jugar al azar   \n",
       "1         2                                    Jugar al azar   \n",
       "2         3                                    Jugar al azar   \n",
       "3         4                                    Jugar al azar   \n",
       "4         5                                    Jugar al azar   \n",
       "...     ...                                              ...   \n",
       "5495   5496  Mejor opcion contra la opcion popular del rival   \n",
       "5496   5497  Mejor opcion contra la opcion popular del rival   \n",
       "5497   5498  Mejor opcion contra la opcion popular del rival   \n",
       "5498   5499  Mejor opcion contra la opcion popular del rival   \n",
       "5499   5500  Mejor opcion contra la opcion popular del rival   \n",
       "\n",
       "                                       Jugador 2  \\\n",
       "0                                 Siempre piedra   \n",
       "1                                 Siempre piedra   \n",
       "2                                 Siempre piedra   \n",
       "3                                 Siempre piedra   \n",
       "4                                 Siempre piedra   \n",
       "...                                          ...   \n",
       "5495  Opcion que gana el ciclo RSP del contrario   \n",
       "5496  Opcion que gana el ciclo RSP del contrario   \n",
       "5497  Opcion que gana el ciclo RSP del contrario   \n",
       "5498  Opcion que gana el ciclo RSP del contrario   \n",
       "5499  Opcion que gana el ciclo RSP del contrario   \n",
       "\n",
       "                                              Ganador Opcion 1 Opcion 2  \n",
       "0                                              Empate   Piedra   Piedra  \n",
       "1                                      Siempre piedra   Tijera   Piedra  \n",
       "2                                              Empate   Piedra   Piedra  \n",
       "3                                      Siempre piedra   Tijera   Piedra  \n",
       "4                                       Jugar al azar    Papel   Piedra  \n",
       "...                                               ...      ...      ...  \n",
       "5495                                           Empate   Tijera   Tijera  \n",
       "5496  Mejor opcion contra la opcion popular del rival   Tijera    Papel  \n",
       "5497       Opcion que gana el ciclo RSP del contrario   Tijera   Piedra  \n",
       "5498                                           Empate   Tijera   Tijera  \n",
       "5499  Mejor opcion contra la opcion popular del rival   Tijera    Papel  \n",
       "\n",
       "[5500 rows x 6 columns]"
      ]
     },
     "execution_count": 7,
     "metadata": {},
     "output_type": "execute_result"
    }
   ],
   "source": [
    "Archivo"
   ]
  },
  {
   "cell_type": "markdown",
   "id": "f4ff231f",
   "metadata": {},
   "source": [
    "A continuación se presentará la tabla con los puntajes Elo de cada estrategia que participó en el torneo simulado:"
   ]
  },
  {
   "cell_type": "code",
   "execution_count": 8,
   "id": "e86fd428",
   "metadata": {},
   "outputs": [
    {
     "data": {
      "text/html": [
       "<div>\n",
       "<style scoped>\n",
       "    .dataframe tbody tr th:only-of-type {\n",
       "        vertical-align: middle;\n",
       "    }\n",
       "\n",
       "    .dataframe tbody tr th {\n",
       "        vertical-align: top;\n",
       "    }\n",
       "\n",
       "    .dataframe thead th {\n",
       "        text-align: right;\n",
       "    }\n",
       "</style>\n",
       "<table border=\"1\" class=\"dataframe\">\n",
       "  <thead>\n",
       "    <tr style=\"text-align: right;\">\n",
       "      <th></th>\n",
       "      <th>Jugador</th>\n",
       "      <th>Elo</th>\n",
       "    </tr>\n",
       "  </thead>\n",
       "  <tbody>\n",
       "    <tr>\n",
       "      <th>0</th>\n",
       "      <td>Jugar al azar</td>\n",
       "      <td>951.38</td>\n",
       "    </tr>\n",
       "    <tr>\n",
       "      <th>1</th>\n",
       "      <td>Siempre piedra</td>\n",
       "      <td>964.64</td>\n",
       "    </tr>\n",
       "    <tr>\n",
       "      <th>2</th>\n",
       "      <td>Siempre tijera</td>\n",
       "      <td>915.88</td>\n",
       "    </tr>\n",
       "    <tr>\n",
       "      <th>3</th>\n",
       "      <td>Siempre papel</td>\n",
       "      <td>957.50</td>\n",
       "    </tr>\n",
       "    <tr>\n",
       "      <th>4</th>\n",
       "      <td>Copiar opcion pasada del contrario</td>\n",
       "      <td>1025.52</td>\n",
       "    </tr>\n",
       "    <tr>\n",
       "      <th>5</th>\n",
       "      <td>Repetir opcion propia si gano o empato, copiar...</td>\n",
       "      <td>1039.64</td>\n",
       "    </tr>\n",
       "    <tr>\n",
       "      <th>6</th>\n",
       "      <td>Copiar opcion pasada del contrario si gano o e...</td>\n",
       "      <td>1030.19</td>\n",
       "    </tr>\n",
       "    <tr>\n",
       "      <th>7</th>\n",
       "      <td>Mejor opcion contra la opcion pasada del rival</td>\n",
       "      <td>1049.38</td>\n",
       "    </tr>\n",
       "    <tr>\n",
       "      <th>8</th>\n",
       "      <td>Peor opcion contra la opcion pasada del rival</td>\n",
       "      <td>782.12</td>\n",
       "    </tr>\n",
       "    <tr>\n",
       "      <th>9</th>\n",
       "      <td>Mejor opcion contra la opcion popular del rival</td>\n",
       "      <td>1095.39</td>\n",
       "    </tr>\n",
       "    <tr>\n",
       "      <th>10</th>\n",
       "      <td>Opcion que gana el ciclo RSP del contrario</td>\n",
       "      <td>940.56</td>\n",
       "    </tr>\n",
       "  </tbody>\n",
       "</table>\n",
       "</div>"
      ],
      "text/plain": [
       "                                              Jugador      Elo\n",
       "0                                       Jugar al azar   951.38\n",
       "1                                      Siempre piedra   964.64\n",
       "2                                      Siempre tijera   915.88\n",
       "3                                       Siempre papel   957.50\n",
       "4                  Copiar opcion pasada del contrario  1025.52\n",
       "5   Repetir opcion propia si gano o empato, copiar...  1039.64\n",
       "6   Copiar opcion pasada del contrario si gano o e...  1030.19\n",
       "7      Mejor opcion contra la opcion pasada del rival  1049.38\n",
       "8       Peor opcion contra la opcion pasada del rival   782.12\n",
       "9     Mejor opcion contra la opcion popular del rival  1095.39\n",
       "10         Opcion que gana el ciclo RSP del contrario   940.56"
      ]
     },
     "execution_count": 8,
     "metadata": {},
     "output_type": "execute_result"
    }
   ],
   "source": [
    "Elo"
   ]
  },
  {
   "cell_type": "markdown",
   "id": "02927193",
   "metadata": {},
   "source": [
    "Como el Elo representa un puntaje cuantitativo donde un alto valor significa una mejor estrategia, se puede concluir que el mejor jugador que participó en este entorno simulado es el Jugador 9 que siempre jugaba la mejor opción contra la opción popular del rival, seguido por el Jugador 7. Mientras que la peor estrategia es la del Jugador 8 que busca la peor opción pasada del rival."
   ]
  },
  {
   "cell_type": "markdown",
   "id": "859b140e",
   "metadata": {},
   "source": [
    "De igual forma, se puede apreciar en la siguiente gráfica un resumen de los resultados, que ayudan a comprender mejor las conclusiones obtenidas."
   ]
  },
  {
   "cell_type": "code",
   "execution_count": 9,
   "id": "c4fbefd8",
   "metadata": {},
   "outputs": [
    {
     "data": {
      "text/plain": [
       "<matplotlib.legend.Legend at 0xffff7b1adfd0>"
      ]
     },
     "execution_count": 9,
     "metadata": {},
     "output_type": "execute_result"
    },
    {
     "data": {
      "image/png": "[encoded data removed]",
      "text/plain": [
       "<Figure size 432x288 with 1 Axes>"
      ]
     },
     "metadata": {
      "needs_background": "light"
     },
     "output_type": "display_data"
    }
   ],
   "source": [
    "Grafica.plot.barh(stacked=True, x='Jugador').legend(loc='center left',bbox_to_anchor=(1.0, 0.5))"
   ]
  },
  {
   "cell_type": "markdown",
   "id": "a81d7478",
   "metadata": {},
   "source": [
    "A pesar que el Jugador 7 cuenta con más victorias que el Jugador 9, se puede ver que también tiene más derrotas y menos empates. Esto significa que le da la ventaja al Jugador 9 en el puntaje Elo, ya que beneficia las victorias y perjudica las derrotas. Igualmente, el Jugador 8 posee la mayor cantidad de pérdidas, colocándolo como la peor estrategia. Estos resultados llegan a ser similares en la mayoría de los casos al repetir la simulación varias veces."
   ]
  },
  {
   "cell_type": "markdown",
   "id": "7d278d93",
   "metadata": {},
   "source": [
    "Como datos extras a resaltar, se puede ver que la estrategia de jugar al azar es la única que posee una distribución de 1/3 casi perfecta entre sus victorias, derrotas y empates. Mientras que la opción más escogida en todo el torneo fue Tijera, pero se observa  una distribución medianamente equitativa entre las tres opciones como lo muestra la siguiente tabla."
   ]
  },
  {
   "cell_type": "code",
   "execution_count": 10,
   "id": "664d340d",
   "metadata": {},
   "outputs": [
    {
     "data": {
      "text/plain": [
       "Papel     3764\n",
       "Piedra    3282\n",
       "Tijera    3954\n",
       "dtype: int64"
      ]
     },
     "execution_count": 10,
     "metadata": {},
     "output_type": "execute_result"
    }
   ],
   "source": [
    "Archivo.value_counts('Opcion 2') + Archivo.value_counts('Opcion 1')"
   ]
  },
  {
   "cell_type": "markdown",
   "id": "d1a58e0c",
   "metadata": {},
   "source": [
    "## En conclusión, se puede observar que la mejor estrategia según los resultados y el puntaje Elo es el Jugador 9 que usa la estrategia de la mejor opción contra la opción más popular del rival, dado el contexto simulado en este torneo."
   ]
  }
 ],
 "metadata": {
  "kernelspec": {
   "display_name": "pensamiento_computacional",
   "language": "python",
   "name": "pensamiento_computacional"
  },
  "language_info": {
   "codemirror_mode": {
    "name": "ipython",
    "version": 3
   },
   "file_extension": ".py",
   "mimetype": "text/x-python",
   "name": "python",
   "nbconvert_exporter": "python",
   "pygments_lexer": "ipython3",
   "version": "3.6.9"
  }
 },
 "nbformat": 4,
 "nbformat_minor": 5
}

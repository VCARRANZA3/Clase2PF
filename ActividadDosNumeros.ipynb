{
 "cells": [
  {
   "cell_type": "markdown",
   "id": "8d906d45",
   "metadata": {},
   "source": [
    "Actividad Dos Numeros de Victor Carranza"
   ]
  },
  {
   "cell_type": "code",
   "execution_count": 6,
   "id": "bfb7ad1b",
   "metadata": {},
   "outputs": [
    {
     "name": "stdout",
     "output_type": "stream",
     "text": [
      "Ingrese su primer número: 24\n",
      "Ingrese su segundo número: 18\n",
      "El número más chico es:  18\n"
     ]
    }
   ],
   "source": [
    "#Pida al usuario que ingrese dos números y muestre cuál de los dos es menor. Considere cuando ambos números son iguales.\n",
    "NumeroUno = int(input(\"Ingrese su primer número: \"))\n",
    "NumeroDos = int(input(\"Ingrese su segundo número: \"))\n",
    "if NumeroUno > NumeroDos:\n",
    "    print(\"El número más chico es: \", NumeroDos)\n",
    "elif NumeroDos > NumeroUno:\n",
    "    print(\"El número más chico es: \", NumeroUno)\n",
    "else:\n",
    "    print(\"Ambos números son iguales\")"
   ]
  },
  {
   "cell_type": "code",
   "execution_count": null,
   "id": "bc3cb0ce",
   "metadata": {},
   "outputs": [],
   "source": []
  }
 ],
 "metadata": {
  "kernelspec": {
   "display_name": "Python 3",
   "language": "python",
   "name": "python3"
  },
  "language_info": {
   "codemirror_mode": {
    "name": "ipython",
    "version": 3
   },
   "file_extension": ".py",
   "mimetype": "text/x-python",
   "name": "python",
   "nbconvert_exporter": "python",
   "pygments_lexer": "ipython3",
   "version": "3.6.13"
  }
 },
 "nbformat": 4,
 "nbformat_minor": 5
}

{
 "cells": [
  {
   "cell_type": "markdown",
   "id": "4454958b",
   "metadata": {},
   "source": [
    "Actividad Salarios de Víctor Carranza"
   ]
  },
  {
   "cell_type": "code",
   "execution_count": 1,
   "id": "0b94ea60",
   "metadata": {},
   "outputs": [
    {
     "name": "stdout",
     "output_type": "stream",
     "text": [
      "La diferencia entre el salario más alto y el más pequeño es de 4000 pesos.\n"
     ]
    }
   ],
   "source": [
    "#Obtén la diferencia entre el salario más alto y el más pequeño.\n",
    "import pandas as pd\n",
    "import numpy as np\n",
    "diccionario={\"Nombre\":[\"Ringo\",\"John\",\"Paul\",\"George\",\"Yoko\"],\n",
    "        \"Edad\":[45,34,43,38,47],\n",
    "        \"Salario\":[12000,14000,13000,11000,10000],\n",
    "        \"Genero\":[\"M\",\"M\",\"M\",\"M\",\"F\"]}\n",
    "base = pd.DataFrame(diccionario)\n",
    "diferencia = base[\"Salario\"].max() -  base[\"Salario\"].min()\n",
    "print(\"La diferencia entre el salario más alto y el más pequeño es de\", diferencia, \"pesos.\")"
   ]
  }
 ],
 "metadata": {
  "kernelspec": {
   "display_name": "Python 3 (ipykernel)",
   "language": "python",
   "name": "python3"
  },
  "language_info": {
   "codemirror_mode": {
    "name": "ipython",
    "version": 3
   },
   "file_extension": ".py",
   "mimetype": "text/x-python",
   "name": "python",
   "nbconvert_exporter": "python",
   "pygments_lexer": "ipython3",
   "version": "3.9.12"
  }
 },
 "nbformat": 4,
 "nbformat_minor": 5
}
